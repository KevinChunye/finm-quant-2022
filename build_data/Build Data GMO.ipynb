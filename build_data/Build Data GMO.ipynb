{
 "cells": [
  {
   "cell_type": "code",
   "execution_count": 1,
   "id": "cda1caa6",
   "metadata": {},
   "outputs": [],
   "source": [
    "import numpy as np\n",
    "import pandas as pd\n",
    "\n",
    "import quandl\n",
    "import yfinance as yf"
   ]
  },
  {
   "cell_type": "code",
   "execution_count": 2,
   "id": "8c8193ab",
   "metadata": {},
   "outputs": [
    {
     "data": {
      "text/html": [
       "<div>\n",
       "<style scoped>\n",
       "    .dataframe tbody tr th:only-of-type {\n",
       "        vertical-align: middle;\n",
       "    }\n",
       "\n",
       "    .dataframe tbody tr th {\n",
       "        vertical-align: top;\n",
       "    }\n",
       "\n",
       "    .dataframe thead th {\n",
       "        text-align: right;\n",
       "    }\n",
       "</style>\n",
       "<table border=\"1\" class=\"dataframe\">\n",
       "  <thead>\n",
       "    <tr style=\"text-align: right;\">\n",
       "      <th></th>\n",
       "      <th>Unit</th>\n",
       "      <th>Type</th>\n",
       "      <th>Description</th>\n",
       "    </tr>\n",
       "  </thead>\n",
       "  <tbody>\n",
       "    <tr>\n",
       "      <th>DP</th>\n",
       "      <td>Ratio</td>\n",
       "      <td>Index</td>\n",
       "      <td>Dividend-Price Ratio of the S&amp;P500</td>\n",
       "    </tr>\n",
       "    <tr>\n",
       "      <th>EP</th>\n",
       "      <td>Ratio</td>\n",
       "      <td>Index</td>\n",
       "      <td>Earnings-Price Ratio of the S&amp;P500</td>\n",
       "    </tr>\n",
       "    <tr>\n",
       "      <th>US10Y</th>\n",
       "      <td>Yield</td>\n",
       "      <td>Index</td>\n",
       "      <td>10-Year Tnotes</td>\n",
       "    </tr>\n",
       "    <tr>\n",
       "      <th>SPY</th>\n",
       "      <td>Total Return</td>\n",
       "      <td>ETF</td>\n",
       "      <td>S&amp;P 500</td>\n",
       "    </tr>\n",
       "    <tr>\n",
       "      <th>GMWAX</th>\n",
       "      <td>Total Return</td>\n",
       "      <td>Mutual Fund</td>\n",
       "      <td>GMO</td>\n",
       "    </tr>\n",
       "    <tr>\n",
       "      <th>RF</th>\n",
       "      <td>Total Return</td>\n",
       "      <td>Index</td>\n",
       "      <td>3-Month Tbills</td>\n",
       "    </tr>\n",
       "  </tbody>\n",
       "</table>\n",
       "</div>"
      ],
      "text/plain": [
       "               Unit         Type                         Description\n",
       "DP            Ratio        Index  Dividend-Price Ratio of the S&P500\n",
       "EP            Ratio        Index  Earnings-Price Ratio of the S&P500\n",
       "US10Y         Yield        Index                      10-Year Tnotes\n",
       "SPY    Total Return          ETF                             S&P 500\n",
       "GMWAX  Total Return  Mutual Fund                                 GMO\n",
       "RF     Total Return        Index                      3-Month Tbills"
      ]
     },
     "execution_count": 2,
     "metadata": {},
     "output_type": "execute_result"
    }
   ],
   "source": [
    "info = pd.DataFrame(columns=['Unit', 'Type', 'Description'])\n",
    "info.loc['DP'] = ['Ratio', 'Index', 'Dividend-Price Ratio of the S&P500']\n",
    "info.loc['EP'] = ['Ratio', 'Index', 'Earnings-Price Ratio of the S&P500']\n",
    "info.loc['US10Y'] = ['Yield', 'Index', '10-Year Tnotes']\n",
    "info.loc['SPY'] = ['Total Return', 'ETF', 'S&P 500']\n",
    "info.loc['GMWAX'] = ['Total Return', 'Mutual Fund', 'GMO']\n",
    "info.loc['RF'] = ['Total Return', 'Index', '3-Month Tbills']\n",
    "info"
   ]
  },
  {
   "cell_type": "markdown",
   "id": "d7ee9975",
   "metadata": {},
   "source": [
    "# Load Data from Quandl"
   ]
  },
  {
   "cell_type": "code",
   "execution_count": 3,
   "id": "a770db1b",
   "metadata": {},
   "outputs": [],
   "source": [
    "file_key = open(\"../../../keys/quandl_key.txt\",\"r\")\n",
    "API_KEY = file_key.read()\n",
    "file_key.close()\n",
    "\n",
    "quandl.ApiConfig.api_key = API_KEY"
   ]
  },
  {
   "cell_type": "code",
   "execution_count": 4,
   "id": "0463cb72",
   "metadata": {},
   "outputs": [
    {
     "data": {
      "text/html": [
       "<div>\n",
       "<style scoped>\n",
       "    .dataframe tbody tr th:only-of-type {\n",
       "        vertical-align: middle;\n",
       "    }\n",
       "\n",
       "    .dataframe tbody tr th {\n",
       "        vertical-align: top;\n",
       "    }\n",
       "\n",
       "    .dataframe thead th {\n",
       "        text-align: right;\n",
       "    }\n",
       "</style>\n",
       "<table border=\"1\" class=\"dataframe\">\n",
       "  <thead>\n",
       "    <tr style=\"text-align: right;\">\n",
       "      <th>SP500 Multiples</th>\n",
       "      <th>DP</th>\n",
       "      <th>EP</th>\n",
       "      <th>US10Y</th>\n",
       "    </tr>\n",
       "    <tr>\n",
       "      <th>Date</th>\n",
       "      <th></th>\n",
       "      <th></th>\n",
       "      <th></th>\n",
       "    </tr>\n",
       "  </thead>\n",
       "  <tbody>\n",
       "    <tr>\n",
       "      <th>1991-10-31</th>\n",
       "      <td>3.17</td>\n",
       "      <td>4.45</td>\n",
       "      <td>7.47</td>\n",
       "    </tr>\n",
       "    <tr>\n",
       "      <th>1991-11-30</th>\n",
       "      <td>3.17</td>\n",
       "      <td>4.30</td>\n",
       "      <td>7.38</td>\n",
       "    </tr>\n",
       "    <tr>\n",
       "      <th>1991-12-31</th>\n",
       "      <td>3.14</td>\n",
       "      <td>4.11</td>\n",
       "      <td>6.71</td>\n",
       "    </tr>\n",
       "    <tr>\n",
       "      <th>1992-01-31</th>\n",
       "      <td>2.94</td>\n",
       "      <td>3.86</td>\n",
       "      <td>7.31</td>\n",
       "    </tr>\n",
       "    <tr>\n",
       "      <th>1992-02-29</th>\n",
       "      <td>2.98</td>\n",
       "      <td>3.91</td>\n",
       "      <td>7.27</td>\n",
       "    </tr>\n",
       "    <tr>\n",
       "      <th>...</th>\n",
       "      <td>...</td>\n",
       "      <td>...</td>\n",
       "      <td>...</td>\n",
       "    </tr>\n",
       "    <tr>\n",
       "      <th>2022-01-31</th>\n",
       "      <td>1.33</td>\n",
       "      <td>3.88</td>\n",
       "      <td>1.79</td>\n",
       "    </tr>\n",
       "    <tr>\n",
       "      <th>2022-02-28</th>\n",
       "      <td>1.39</td>\n",
       "      <td>4.01</td>\n",
       "      <td>1.83</td>\n",
       "    </tr>\n",
       "    <tr>\n",
       "      <th>2022-03-31</th>\n",
       "      <td>1.41</td>\n",
       "      <td>3.87</td>\n",
       "      <td>2.32</td>\n",
       "    </tr>\n",
       "    <tr>\n",
       "      <th>2022-04-30</th>\n",
       "      <td>1.41</td>\n",
       "      <td>4.51</td>\n",
       "      <td>2.89</td>\n",
       "    </tr>\n",
       "    <tr>\n",
       "      <th>2022-05-31</th>\n",
       "      <td>1.48</td>\n",
       "      <td>4.79</td>\n",
       "      <td>2.85</td>\n",
       "    </tr>\n",
       "  </tbody>\n",
       "</table>\n",
       "<p>368 rows × 3 columns</p>\n",
       "</div>"
      ],
      "text/plain": [
       "SP500 Multiples    DP    EP  US10Y\n",
       "Date                              \n",
       "1991-10-31       3.17  4.45   7.47\n",
       "1991-11-30       3.17  4.30   7.38\n",
       "1991-12-31       3.14  4.11   6.71\n",
       "1992-01-31       2.94  3.86   7.31\n",
       "1992-02-29       2.98  3.91   7.27\n",
       "...               ...   ...    ...\n",
       "2022-01-31       1.33  3.88   1.79\n",
       "2022-02-28       1.39  4.01   1.83\n",
       "2022-03-31       1.41  3.87   2.32\n",
       "2022-04-30       1.41  4.51   2.89\n",
       "2022-05-31       1.48  4.79   2.85\n",
       "\n",
       "[368 rows x 3 columns]"
      ]
     },
     "execution_count": 4,
     "metadata": {},
     "output_type": "execute_result"
    }
   ],
   "source": [
    "start_date = '1991-10-01'\n",
    "end_date = '2022-05-31'\n",
    "\n",
    "sigs_ticks = [\"MULTPL/SP500_DIV_YIELD_MONTH\",\"MULTPL/SP500_EARNINGS_YIELD_MONTH\",\"YC/USA10Y\"]\n",
    "sigs_names = ['DP','EP', 'US10Y']\n",
    "sigs_info = pd.DataFrame({'Name':sigs_names,'Ticker':sigs_ticks}).set_index('Name')\n",
    "\n",
    "signals = pd.DataFrame()\n",
    "for idx,tick in enumerate(sigs_info['Ticker']):\n",
    "    temp = quandl.get(tick, start_date=start_date, end_date=end_date)\n",
    "    temp.columns = [sigs_info.index[idx]]\n",
    "    signals = signals.join(temp,rsuffix='_',how='outer')\n",
    "\n",
    "# some monthly data reported at start of month--assume we do not have it until end of month\n",
    "signals = signals.resample('M').last()\n",
    "signals.columns.name = 'SP500 Multiples'\n",
    "signals"
   ]
  },
  {
   "cell_type": "code",
   "execution_count": 5,
   "id": "febd105f",
   "metadata": {},
   "outputs": [
    {
     "name": "stdout",
     "output_type": "stream",
     "text": [
      "[*********************100%***********************]  2 of 2 completed\n"
     ]
    }
   ],
   "source": [
    "rf_tick = 'YC/USA3M'\n",
    "data = quandl.get(rf_tick, start_date=start_date, end_date=end_date)\n",
    "rf = data.resample('M').last()/(12*100)\n",
    "rf.rename(columns={'Rate':'US3M'},inplace=True)\n",
    "\n",
    "yf_ticks = ['SPY','GMWAX']\n",
    "data = yf.download(yf_ticks, start=start_date, end=end_date)['Adj Close']\n",
    "rets = data.resample('M').last().pct_change()\n",
    "rets.dropna(inplace=True)"
   ]
  },
  {
   "cell_type": "code",
   "execution_count": 6,
   "id": "5834da2c",
   "metadata": {},
   "outputs": [],
   "source": [
    "signals, rets = signals.align(rets,join='inner',axis=0)\n",
    "rf, _ = rf.align(rets,join='inner',axis=0)"
   ]
  },
  {
   "cell_type": "markdown",
   "id": "3d52aeba",
   "metadata": {},
   "source": [
    "# Save Data to Excel"
   ]
  },
  {
   "cell_type": "code",
   "execution_count": 7,
   "id": "6f2a3813",
   "metadata": {},
   "outputs": [],
   "source": [
    "with pd.ExcelWriter('../data/gmo_analysis_data.xlsx') as writer:  \n",
    "    info.to_excel(writer, sheet_name = 'descriptions')\n",
    "    signals.to_excel(writer, sheet_name= 'signals')\n",
    "    rets.to_excel(writer, sheet_name='returns (total)')\n",
    "    rf.to_excel(writer, sheet_name='risk-free rate')"
   ]
  }
 ],
 "metadata": {
  "hide_input": false,
  "kernelspec": {
   "display_name": "Python 3",
   "language": "python",
   "name": "python3"
  },
  "language_info": {
   "codemirror_mode": {
    "name": "ipython",
    "version": 3
   },
   "file_extension": ".py",
   "mimetype": "text/x-python",
   "name": "python",
   "nbconvert_exporter": "python",
   "pygments_lexer": "ipython3",
   "version": "3.9.7"
  }
 },
 "nbformat": 4,
 "nbformat_minor": 5
}
