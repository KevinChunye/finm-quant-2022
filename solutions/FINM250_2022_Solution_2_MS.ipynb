{
 "cells": [
  {
   "cell_type": "markdown",
   "id": "c222ff3f",
   "metadata": {},
   "source": [
    "# FINM 25000 - Quantitative Portfolio Management and Algorithmic Trading\n",
    "## Homework 2 Solution | Summer 2022"
   ]
  },
  {
   "cell_type": "markdown",
   "id": "86a0b401",
   "metadata": {},
   "source": [
    "## 2 Analyzing the Data"
   ]
  },
  {
   "cell_type": "code",
   "execution_count": 12,
   "id": "69d107b0",
   "metadata": {},
   "outputs": [],
   "source": [
    "# Some useful packages and functions\n",
    "\n",
    "# Import the packages we need\n",
    "\n",
    "import pandas as pd\n",
    "pd.options.display.float_format = '{:.3f}'.format\n",
    "import numpy as np\n",
    "import seaborn as sns\n",
    "import matplotlib.pyplot as plt\n",
    "from sklearn.linear_model import LinearRegression\n",
    "\n",
    "# Define the functions that we need\n",
    "\n",
    "#Mean, Volatality and Sharpe Ratio\n",
    "def performanceMetrics(returns,annualization=1, quantile=.05):\n",
    "    metrics = pd.DataFrame(index=returns.columns)\n",
    "    metrics['Mean'] = returns.mean() * annualization\n",
    "    metrics['Vol'] = returns.std() * np.sqrt(annualization)\n",
    "    metrics['Sharpe'] = (returns.mean() / returns.std()) * np.sqrt(annualization)\n",
    "\n",
    "    metrics['Min'] = returns.min()\n",
    "    metrics['Max'] = returns.max()\n",
    "    return metrics\n",
    "\n",
    "\n",
    "#VaR, CVaR, Max Drawdown\n",
    "def tailMetrics(returns, quantile=.05, relative=False, mdd=True):\n",
    "    metrics = pd.DataFrame(index=returns.columns)\n",
    "    metrics['Skewness'] = returns.skew()\n",
    "    metrics['Kurtosis'] = returns.kurtosis()\n",
    "\n",
    "    VaR = returns.quantile(quantile)\n",
    "    CVaR = (returns[returns < returns.quantile(quantile)]).mean()\n",
    "\n",
    "    if relative:\n",
    "        VaR = (VaR - returns.mean())/returns.std()\n",
    "        CVaR = (CVaR - returns.mean())/returns.std()\n",
    "\n",
    "    metrics[f'VaR ({quantile})'] = VaR\n",
    "    metrics[f'CVaR ({quantile})'] = CVaR\n",
    "\n",
    "    if mdd:\n",
    "        mdd_stats = maximumDrawdown(returns)\n",
    "        metrics = metrics.join(mdd_stats)\n",
    "\n",
    "        if relative:\n",
    "            metrics['Max Drawdown'] = (metrics['Max Drawdown'] - returns.mean())/returns.std()\n",
    "\n",
    "    return metrics\n",
    "\n",
    "\n",
    "def maximumDrawdown(returns):\n",
    "    cum_returns = (1 + returns).cumprod()\n",
    "    rolling_max = cum_returns.cummax()\n",
    "    drawdown = (cum_returns - rolling_max) / rolling_max\n",
    "\n",
    "    max_drawdown = drawdown.min()\n",
    "    end_date = drawdown.idxmin()\n",
    "    summary = pd.DataFrame({'Max Drawdown': max_drawdown, 'Bottom': end_date})\n",
    "\n",
    "    for col in drawdown:\n",
    "        summary.loc[col,'Peak'] = (rolling_max.loc[:end_date[col],col]).idxmax()\n",
    "        recovery = (drawdown.loc[end_date[col]:,col])\n",
    "        try:\n",
    "            summary.loc[col,'Recover'] = pd.to_datetime(recovery[recovery >= 0].index[0])\n",
    "        except:\n",
    "            summary.loc[col,'Recover'] = pd.to_datetime(None)\n",
    "\n",
    "        summary['Peak'] = pd.to_datetime(summary['Peak'])\n",
    "        try:\n",
    "            summary['Duration (to Recover)'] = (summary['Recover'] - summary['Peak'])\n",
    "        except:\n",
    "            summary['Duration (to Recover)'] = None\n",
    "            \n",
    "        summary = summary[['Max Drawdown','Peak','Bottom','Recover','Duration (to Recover)']]\n",
    "\n",
    "    return summary\n",
    "\n",
    "\n",
    "#Run OLS\n",
    "def get_ols_metrics(regressors, targets, annualization=1, ignorenan=True):\n",
    "    # ensure regressors and targets are pandas dataframes, as expected\n",
    "    if not isinstance(regressors, pd.DataFrame):\n",
    "        regressors = regressors.to_frame()\n",
    "    if not isinstance(targets, pd.DataFrame):\n",
    "        targets = targets.to_frame()\n",
    "\n",
    "    # align the targets and regressors on the same dates\n",
    "    df_aligned = targets.join(regressors, how='inner', lsuffix='y ')\n",
    "    Y = df_aligned[targets.columns]\n",
    "    Xset = df_aligned[regressors.columns]\n",
    "\n",
    "    reg = pd.DataFrame(index=targets.columns)\n",
    "    for col in Y.columns:\n",
    "        y = Y[col]\n",
    "        \n",
    "        if ignorenan:\n",
    "            # ensure we use only non-NaN dates\n",
    "            alldata = Xset.join(y,lsuffix='X')\n",
    "            mask = alldata.notnull().all(axis=1)\n",
    "            y = y[mask]\n",
    "            X = Xset[mask]\n",
    "        else:\n",
    "            X = Xset\n",
    "\n",
    "        model = LinearRegression().fit(X, y)\n",
    "        reg.loc[col, 'alpha'] = model.intercept_ * annualization\n",
    "        reg.loc[col, regressors.columns] = model.coef_\n",
    "        reg.loc[col, 'r-squared'] = model.score(X, y)\n",
    "\n",
    "        # sklearn does not return the residuals, so we need to build them\n",
    "        yfit = model.predict(X)\n",
    "        residuals = y - yfit\n",
    "\n",
    "        # Treynor Ratio is only defined for univariate regression\n",
    "        if Xset.shape[1] == 1:\n",
    "            reg.loc[col,'Treynor Ratio'] = (y.mean() / model.coef_) * annualization\n",
    "\n",
    "        \n",
    "        # if intercept =0, numerical roundoff will nonetheless show nonzero Info Ratio\n",
    "        num_roundoff = 1e-12\n",
    "        if np.abs(model.intercept_) < num_roundoff:\n",
    "            reg.loc[col, 'Info Ratio'] = None\n",
    "        else:\n",
    "            reg.loc[col, 'Info Ratio'] = (model.intercept_ / residuals.std()) * np.sqrt(annualization)\n",
    "\n",
    "    return reg"
   ]
  },
  {
   "cell_type": "code",
   "execution_count": 2,
   "id": "813eb711",
   "metadata": {},
   "outputs": [],
   "source": [
    "# Read the data\n",
    "\n",
    "#Descriptions sheet. Note the use of .rename to correct column names that are not correctely named in the source file\n",
    "desc = pd.read_excel('proshares_analysis_data.xlsx','descriptions').rename(columns={'Unnamed: 0':'Symbol'}).set_index('Symbol')\n",
    "\n",
    "#Hedge Fund Data\n",
    "hf = pd.read_excel('proshares_analysis_data.xlsx','hedge_fund_series').set_index('date')\n",
    "\n",
    "#Merrill Lynch Factor Data\n",
    "mf = pd.read_excel('proshares_analysis_data.xlsx','merrill_factors').set_index('date')\n",
    "\n",
    "#Other Data\n",
    "od = pd.read_excel('proshares_analysis_data.xlsx','other_data').set_index('date')"
   ]
  },
  {
   "cell_type": "markdown",
   "id": "9b61a91b",
   "metadata": {},
   "source": [
    "### 1. For the series in the “hedge fund series” tab, report the following summary statistics (annualize these statistics):\n",
    "#### (a) mean\n",
    "#### (b) volatility\n",
    "#### (c) Sharpe ratio"
   ]
  },
  {
   "cell_type": "code",
   "execution_count": 10,
   "id": "36f5af3b",
   "metadata": {},
   "outputs": [
    {
     "data": {
      "text/html": [
       "<style  type=\"text/css\" >\n",
       "</style><table id=\"T_13874_\" ><thead>    <tr>        <th class=\"blank level0\" ></th>        <th class=\"col_heading level0 col0\" >Mean</th>        <th class=\"col_heading level0 col1\" >Vol</th>        <th class=\"col_heading level0 col2\" >Sharpe</th>        <th class=\"col_heading level0 col3\" >Min</th>        <th class=\"col_heading level0 col4\" >Max</th>    </tr></thead><tbody>\n",
       "                <tr>\n",
       "                        <th id=\"T_13874_level0_row0\" class=\"row_heading level0 row0\" >HFRIFWI Index</th>\n",
       "                        <td id=\"T_13874_row0_col0\" class=\"data row0 col0\" >5.08%</td>\n",
       "                        <td id=\"T_13874_row0_col1\" class=\"data row0 col1\" >6.15%</td>\n",
       "                        <td id=\"T_13874_row0_col2\" class=\"data row0 col2\" >0.83</td>\n",
       "                        <td id=\"T_13874_row0_col3\" class=\"data row0 col3\" >-9.08%</td>\n",
       "                        <td id=\"T_13874_row0_col4\" class=\"data row0 col4\" >5.86%</td>\n",
       "            </tr>\n",
       "            <tr>\n",
       "                        <th id=\"T_13874_level0_row1\" class=\"row_heading level0 row1\" >MLEIFCTR Index</th>\n",
       "                        <td id=\"T_13874_row1_col0\" class=\"data row1 col0\" >3.88%</td>\n",
       "                        <td id=\"T_13874_row1_col1\" class=\"data row1 col1\" >5.38%</td>\n",
       "                        <td id=\"T_13874_row1_col2\" class=\"data row1 col2\" >0.72</td>\n",
       "                        <td id=\"T_13874_row1_col3\" class=\"data row1 col3\" >-5.32%</td>\n",
       "                        <td id=\"T_13874_row1_col4\" class=\"data row1 col4\" >5.89%</td>\n",
       "            </tr>\n",
       "            <tr>\n",
       "                        <th id=\"T_13874_level0_row2\" class=\"row_heading level0 row2\" >MLEIFCTX Index</th>\n",
       "                        <td id=\"T_13874_row2_col0\" class=\"data row2 col0\" >3.73%</td>\n",
       "                        <td id=\"T_13874_row2_col1\" class=\"data row2 col1\" >5.37%</td>\n",
       "                        <td id=\"T_13874_row2_col2\" class=\"data row2 col2\" >0.70</td>\n",
       "                        <td id=\"T_13874_row2_col3\" class=\"data row2 col3\" >-5.24%</td>\n",
       "                        <td id=\"T_13874_row2_col4\" class=\"data row2 col4\" >5.88%</td>\n",
       "            </tr>\n",
       "            <tr>\n",
       "                        <th id=\"T_13874_level0_row3\" class=\"row_heading level0 row3\" >HDG US Equity</th>\n",
       "                        <td id=\"T_13874_row3_col0\" class=\"data row3 col0\" >2.81%</td>\n",
       "                        <td id=\"T_13874_row3_col1\" class=\"data row3 col1\" >5.64%</td>\n",
       "                        <td id=\"T_13874_row3_col2\" class=\"data row3 col2\" >0.50</td>\n",
       "                        <td id=\"T_13874_row3_col3\" class=\"data row3 col3\" >-5.92%</td>\n",
       "                        <td id=\"T_13874_row3_col4\" class=\"data row3 col4\" >5.83%</td>\n",
       "            </tr>\n",
       "            <tr>\n",
       "                        <th id=\"T_13874_level0_row4\" class=\"row_heading level0 row4\" >QAI US Equity</th>\n",
       "                        <td id=\"T_13874_row4_col0\" class=\"data row4 col0\" >2.55%</td>\n",
       "                        <td id=\"T_13874_row4_col1\" class=\"data row4 col1\" >4.55%</td>\n",
       "                        <td id=\"T_13874_row4_col2\" class=\"data row4 col2\" >0.56</td>\n",
       "                        <td id=\"T_13874_row4_col3\" class=\"data row4 col3\" >-5.63%</td>\n",
       "                        <td id=\"T_13874_row4_col4\" class=\"data row4 col4\" >3.41%</td>\n",
       "            </tr>\n",
       "    </tbody></table>"
      ],
      "text/plain": [
       "<pandas.io.formats.style.Styler at 0x7fccb9505ca0>"
      ]
     },
     "metadata": {},
     "output_type": "display_data"
    }
   ],
   "source": [
    "performance_meterics_table = performanceMetrics(hf, annualization=12)\n",
    "display(performance_meterics_table.style.format\\\n",
    "        (formatter = {'Sharpe' : '{:,.2f}', 'Mean': '{:,.2%}', 'Vol': '{:,.2%}', 'Min': '{:,.2%}', 'Max': '{:,.2%}'}))"
   ]
  },
  {
   "cell_type": "markdown",
   "id": "abac6066",
   "metadata": {},
   "source": [
    "### 2. For the series in the “hedge fund series” tab, calculate the following statistics related to tail- risk (no need to annualize any of these statistics).\n",
    "#### (a) Skewness\n",
    "#### (b) Excess Kurtosis (in excess of 3)\n",
    "#### (c) VaR (.05) - the fifth quantile of historic returns\n",
    "#### (d) CVaR (.05) - the mean of the returns at or below the fifth quantile\n",
    "#### (e) Maximum drawdown - include the dates of the max/min/recovery within the max drawdown period."
   ]
  },
  {
   "cell_type": "code",
   "execution_count": 20,
   "id": "cad9fa45",
   "metadata": {},
   "outputs": [
    {
     "data": {
      "text/html": [
       "<div>\n",
       "<style scoped>\n",
       "    .dataframe tbody tr th:only-of-type {\n",
       "        vertical-align: middle;\n",
       "    }\n",
       "\n",
       "    .dataframe tbody tr th {\n",
       "        vertical-align: top;\n",
       "    }\n",
       "\n",
       "    .dataframe thead th {\n",
       "        text-align: right;\n",
       "    }\n",
       "</style>\n",
       "<table border=\"1\" class=\"dataframe\">\n",
       "  <thead>\n",
       "    <tr style=\"text-align: right;\">\n",
       "      <th></th>\n",
       "      <th>Skewness</th>\n",
       "      <th>Kurtosis</th>\n",
       "      <th>VaR (0.05)</th>\n",
       "      <th>CVaR (0.05)</th>\n",
       "      <th>Max Drawdown</th>\n",
       "      <th>Peak</th>\n",
       "      <th>Bottom</th>\n",
       "      <th>Recover</th>\n",
       "      <th>Duration (to Recover)</th>\n",
       "    </tr>\n",
       "  </thead>\n",
       "  <tbody>\n",
       "    <tr>\n",
       "      <th>HFRIFWI Index</th>\n",
       "      <td>-1.109</td>\n",
       "      <td>3.730</td>\n",
       "      <td>-0.025</td>\n",
       "      <td>-0.039</td>\n",
       "      <td>-0.115</td>\n",
       "      <td>2019-12-31</td>\n",
       "      <td>2020-03-31</td>\n",
       "      <td>2020-08-31</td>\n",
       "      <td>244 days</td>\n",
       "    </tr>\n",
       "    <tr>\n",
       "      <th>MLEIFCTR Index</th>\n",
       "      <td>-0.187</td>\n",
       "      <td>-0.571</td>\n",
       "      <td>-0.026</td>\n",
       "      <td>-0.033</td>\n",
       "      <td>-0.084</td>\n",
       "      <td>2019-12-31</td>\n",
       "      <td>2020-03-31</td>\n",
       "      <td>2020-11-30</td>\n",
       "      <td>335 days</td>\n",
       "    </tr>\n",
       "    <tr>\n",
       "      <th>MLEIFCTX Index</th>\n",
       "      <td>-0.172</td>\n",
       "      <td>-0.624</td>\n",
       "      <td>-0.026</td>\n",
       "      <td>-0.033</td>\n",
       "      <td>-0.084</td>\n",
       "      <td>2019-12-31</td>\n",
       "      <td>2020-03-31</td>\n",
       "      <td>2020-11-30</td>\n",
       "      <td>335 days</td>\n",
       "    </tr>\n",
       "    <tr>\n",
       "      <th>HDG US Equity</th>\n",
       "      <td>-0.180</td>\n",
       "      <td>-0.418</td>\n",
       "      <td>-0.029</td>\n",
       "      <td>-0.035</td>\n",
       "      <td>-0.088</td>\n",
       "      <td>2020-01-31</td>\n",
       "      <td>2020-03-31</td>\n",
       "      <td>2020-11-30</td>\n",
       "      <td>304 days</td>\n",
       "    </tr>\n",
       "    <tr>\n",
       "      <th>QAI US Equity</th>\n",
       "      <td>-0.545</td>\n",
       "      <td>-0.330</td>\n",
       "      <td>-0.016</td>\n",
       "      <td>-0.026</td>\n",
       "      <td>-0.076</td>\n",
       "      <td>2019-12-31</td>\n",
       "      <td>2020-03-31</td>\n",
       "      <td>2020-07-31</td>\n",
       "      <td>213 days</td>\n",
       "    </tr>\n",
       "  </tbody>\n",
       "</table>\n",
       "</div>"
      ],
      "text/plain": [
       "                Skewness  Kurtosis  VaR (0.05)  CVaR (0.05)  Max Drawdown  \\\n",
       "HFRIFWI Index     -1.109     3.730      -0.025       -0.039        -0.115   \n",
       "MLEIFCTR Index    -0.187    -0.571      -0.026       -0.033        -0.084   \n",
       "MLEIFCTX Index    -0.172    -0.624      -0.026       -0.033        -0.084   \n",
       "HDG US Equity     -0.180    -0.418      -0.029       -0.035        -0.088   \n",
       "QAI US Equity     -0.545    -0.330      -0.016       -0.026        -0.076   \n",
       "\n",
       "                     Peak     Bottom    Recover Duration (to Recover)  \n",
       "HFRIFWI Index  2019-12-31 2020-03-31 2020-08-31              244 days  \n",
       "MLEIFCTR Index 2019-12-31 2020-03-31 2020-11-30              335 days  \n",
       "MLEIFCTX Index 2019-12-31 2020-03-31 2020-11-30              335 days  \n",
       "HDG US Equity  2020-01-31 2020-03-31 2020-11-30              304 days  \n",
       "QAI US Equity  2019-12-31 2020-03-31 2020-07-31              213 days  "
      ]
     },
     "metadata": {},
     "output_type": "display_data"
    }
   ],
   "source": [
    "tail_metrics_table = tailMetrics(hf)\n",
    "tail_metrics_table['Kurtosis'] = tail_metrics_table['Kurtosis'] - 3\n",
    "display(tail_metrics_table)"
   ]
  },
  {
   "cell_type": "markdown",
   "id": "1cce4673",
   "metadata": {},
   "source": [
    "### 3. For the series in the “hedge fund series” tab, run a regression of each against SPY (found in the “merrill factors” tab.) Include an intercept. Report the following regression-based statistics (annualize as necessary):\n",
    "#### (a) Market Beta\n",
    "#### (b) Treynor Ratio\n",
    "#### (c) Information ratio"
   ]
  },
  {
   "cell_type": "code",
   "execution_count": 19,
   "id": "6300cd5e",
   "metadata": {},
   "outputs": [
    {
     "data": {
      "text/html": [
       "<div>\n",
       "<style scoped>\n",
       "    .dataframe tbody tr th:only-of-type {\n",
       "        vertical-align: middle;\n",
       "    }\n",
       "\n",
       "    .dataframe tbody tr th {\n",
       "        vertical-align: top;\n",
       "    }\n",
       "\n",
       "    .dataframe thead th {\n",
       "        text-align: right;\n",
       "    }\n",
       "</style>\n",
       "<table border=\"1\" class=\"dataframe\">\n",
       "  <thead>\n",
       "    <tr style=\"text-align: right;\">\n",
       "      <th></th>\n",
       "      <th>alpha</th>\n",
       "      <th>SPY US Equity</th>\n",
       "      <th>r-squared</th>\n",
       "      <th>Treynor Ratio</th>\n",
       "      <th>Info Ratio</th>\n",
       "    </tr>\n",
       "  </thead>\n",
       "  <tbody>\n",
       "    <tr>\n",
       "      <th>HFRIFWI Index</th>\n",
       "      <td>-0.007</td>\n",
       "      <td>0.394</td>\n",
       "      <td>0.753</td>\n",
       "      <td>0.129</td>\n",
       "      <td>-0.242</td>\n",
       "    </tr>\n",
       "    <tr>\n",
       "      <th>MLEIFCTR Index</th>\n",
       "      <td>-0.014</td>\n",
       "      <td>0.359</td>\n",
       "      <td>0.816</td>\n",
       "      <td>0.108</td>\n",
       "      <td>-0.615</td>\n",
       "    </tr>\n",
       "    <tr>\n",
       "      <th>MLEIFCTX Index</th>\n",
       "      <td>-0.015</td>\n",
       "      <td>0.358</td>\n",
       "      <td>0.815</td>\n",
       "      <td>0.104</td>\n",
       "      <td>-0.671</td>\n",
       "    </tr>\n",
       "    <tr>\n",
       "      <th>HDG US Equity</th>\n",
       "      <td>-0.026</td>\n",
       "      <td>0.369</td>\n",
       "      <td>0.786</td>\n",
       "      <td>0.076</td>\n",
       "      <td>-1.011</td>\n",
       "    </tr>\n",
       "    <tr>\n",
       "      <th>QAI US Equity</th>\n",
       "      <td>-0.017</td>\n",
       "      <td>0.285</td>\n",
       "      <td>0.719</td>\n",
       "      <td>0.089</td>\n",
       "      <td>-0.687</td>\n",
       "    </tr>\n",
       "  </tbody>\n",
       "</table>\n",
       "</div>"
      ],
      "text/plain": [
       "                alpha  SPY US Equity  r-squared  Treynor Ratio  Info Ratio\n",
       "HFRIFWI Index  -0.007          0.394      0.753          0.129      -0.242\n",
       "MLEIFCTR Index -0.014          0.359      0.816          0.108      -0.615\n",
       "MLEIFCTX Index -0.015          0.358      0.815          0.104      -0.671\n",
       "HDG US Equity  -0.026          0.369      0.786          0.076      -1.011\n",
       "QAI US Equity  -0.017          0.285      0.719          0.089      -0.687"
      ]
     },
     "execution_count": 19,
     "metadata": {},
     "output_type": "execute_result"
    }
   ],
   "source": [
    "get_ols_metrics(mf['SPY US Equity'], hf, annualization=12, ignorenan=True)"
   ]
  },
  {
   "cell_type": "markdown",
   "id": "6235320f",
   "metadata": {},
   "source": [
    "### 4. Relative Performance\n",
    "Discuss the previous statistics, and what they tell us about...\n",
    "\n",
    "\n",
    "\n",
    "#### (a) the differences between SPY and the hedge-fund series?\n",
    "- Compared to SPY, all hedge fund series have negative alpha (lower mean excess return compared to SPY) and hence negative information ratio (Sharpe of the residual return)\n",
    "- All series have SPY/market beta near the 0.3-0.4 range, which means they all have a fairly low exposure to the market.\n",
    "- Given that they have some SPY beta, their total return is positive (Sharpe is positive) but when we strip this factor out, the hedged performance has a negative Sharpe ratio as seen by the Info Ratio (which is the Sharpe Ratio of the hedged position.)\n",
    "\n",
    "\n",
    "\n",
    "#### (b) which performs better between HDG and QAI.\n",
    "\n",
    "- HDG has a lower alpha and information ratio, while QAI has a lower beta. \n",
    "- However, when beta is adjusted with the beta risk (Treynor ratio), the data shows that HDG has a lower performance.\n",
    "- Overall, **QAI performs better than HDG**.\n",
    "\n",
    "\n",
    "\n",
    "#### (c) whether HDG and the ML series capture the most notable properties of HFRI.\n",
    "\n",
    "- Both HDG and the ML series fail to deliver the same high returns compensated with the high risk of HRFI. \n",
    "- The HFRI also shows a very high excess kurtosis, but all of the hedge-fund series has a very small excess kurtosis.\n",
    "\n",
    "\n",
    "\n"
   ]
  },
  {
   "cell_type": "markdown",
   "id": "d9c00974",
   "metadata": {},
   "source": [
    "### 5. Report the correlation matrix for these assets.\n",
    "#### (a) Show the correlations as a heat map."
   ]
  },
  {
   "cell_type": "code",
   "execution_count": 25,
   "id": "c8d84d0d",
   "metadata": {},
   "outputs": [
    {
     "data": {
      "image/png": "[encoded data removed]",
      "text/plain": [
       "<Figure size 864x720 with 2 Axes>"
      ]
     },
     "metadata": {
      "needs_background": "light"
     },
     "output_type": "display_data"
    }
   ],
   "source": [
    "cor_table = pd.concat([hf,mf], axis=1).corr()\n",
    "plt.figure(figsize=(12,10))\n",
    "sns.heatmap(cor_table, annot=True)\n",
    "plt.show()"
   ]
  },
  {
   "cell_type": "markdown",
   "id": "ce6e983e",
   "metadata": {},
   "source": [
    "#### (b) Which series have the highest and lowest correlations?"
   ]
  },
  {
   "cell_type": "code",
   "execution_count": 27,
   "id": "e9555584",
   "metadata": {},
   "outputs": [
    {
     "name": "stdout",
     "output_type": "stream",
     "text": [
      "Strongest correlation is between: ('MLEIFCTR Index', 'MLEIFCTX Index')\n",
      "Weakest correlation is between: ('HDG US Equity', 'QAI US Equity')\n"
     ]
    }
   ],
   "source": [
    "cor_table = hf.corr()\n",
    "cor_table[cor_table == 1] = None\n",
    "cor_table = cor_table.unstack().dropna()\n",
    "max_cor = cor_table.max()\n",
    "min_cor = cor_table.min()\n",
    "\n",
    "print('Strongest correlation is between: '+ str(cor_table[cor_table==max_cor].index[0]))\n",
    "print('Weakest correlation is between: '+ str(cor_table[cor_table==min_cor].index[0]))"
   ]
  },
  {
   "cell_type": "markdown",
   "id": "59ea8db1",
   "metadata": {},
   "source": [
    "### 6. Replicate HFRI with the six factors listed on the “merrill factors” tab. Include a constant, and run the unrestricted regression,\n",
    "$$\n",
    "\\begin{align}\n",
    "r^{hfri}_t &= \\alpha^{merr} + x^{merr}_t\\beta^{merr} + \\epsilon^{merr}_t \\\\\n",
    "\\hat{r}^{hfri}_t &\\equiv \\hat{\\alpha}^{merr} + x^{merr}_t\\hat{\\beta}^{merr}\n",
    "\\end{align}\n",
    "$$\n",
    "### Note that the second equation is just our notation for the fitted replication.\n",
    "#### (a) Report the intercept and betas."
   ]
  },
  {
   "cell_type": "code",
   "execution_count": 63,
   "id": "fd0782b4",
   "metadata": {},
   "outputs": [
    {
     "data": {
      "text/html": [
       "<div>\n",
       "<style scoped>\n",
       "    .dataframe tbody tr th:only-of-type {\n",
       "        vertical-align: middle;\n",
       "    }\n",
       "\n",
       "    .dataframe tbody tr th {\n",
       "        vertical-align: top;\n",
       "    }\n",
       "\n",
       "    .dataframe thead th {\n",
       "        text-align: right;\n",
       "    }\n",
       "</style>\n",
       "<table border=\"1\" class=\"dataframe\">\n",
       "  <thead>\n",
       "    <tr style=\"text-align: right;\">\n",
       "      <th></th>\n",
       "      <th>SPY US Equity</th>\n",
       "      <th>USGG3M Index</th>\n",
       "      <th>EEM US Equity</th>\n",
       "      <th>EFA US Equity</th>\n",
       "      <th>EUO US Equity</th>\n",
       "      <th>IWM US Equity</th>\n",
       "      <th>alpha</th>\n",
       "    </tr>\n",
       "  </thead>\n",
       "  <tbody>\n",
       "    <tr>\n",
       "      <th>HFRIFWI Index</th>\n",
       "      <td>0.072</td>\n",
       "      <td>-0.401</td>\n",
       "      <td>0.072</td>\n",
       "      <td>0.106</td>\n",
       "      <td>0.022</td>\n",
       "      <td>0.131</td>\n",
       "      <td>0.014</td>\n",
       "    </tr>\n",
       "    <tr>\n",
       "      <th>MLEIFCTR Index</th>\n",
       "      <td>0.039</td>\n",
       "      <td>0.536</td>\n",
       "      <td>0.069</td>\n",
       "      <td>0.140</td>\n",
       "      <td>0.036</td>\n",
       "      <td>0.112</td>\n",
       "      <td>0.001</td>\n",
       "    </tr>\n",
       "    <tr>\n",
       "      <th>MLEIFCTX Index</th>\n",
       "      <td>0.037</td>\n",
       "      <td>0.510</td>\n",
       "      <td>0.069</td>\n",
       "      <td>0.140</td>\n",
       "      <td>0.036</td>\n",
       "      <td>0.111</td>\n",
       "      <td>-0.000</td>\n",
       "    </tr>\n",
       "    <tr>\n",
       "      <th>HDG US Equity</th>\n",
       "      <td>0.041</td>\n",
       "      <td>0.575</td>\n",
       "      <td>0.066</td>\n",
       "      <td>0.144</td>\n",
       "      <td>0.035</td>\n",
       "      <td>0.116</td>\n",
       "      <td>-0.011</td>\n",
       "    </tr>\n",
       "    <tr>\n",
       "      <th>QAI US Equity</th>\n",
       "      <td>0.142</td>\n",
       "      <td>0.568</td>\n",
       "      <td>0.067</td>\n",
       "      <td>0.049</td>\n",
       "      <td>-0.003</td>\n",
       "      <td>0.024</td>\n",
       "      <td>-0.008</td>\n",
       "    </tr>\n",
       "  </tbody>\n",
       "</table>\n",
       "</div>"
      ],
      "text/plain": [
       "                SPY US Equity  USGG3M Index  EEM US Equity  EFA US Equity  \\\n",
       "HFRIFWI Index           0.072        -0.401          0.072          0.106   \n",
       "MLEIFCTR Index          0.039         0.536          0.069          0.140   \n",
       "MLEIFCTX Index          0.037         0.510          0.069          0.140   \n",
       "HDG US Equity           0.041         0.575          0.066          0.144   \n",
       "QAI US Equity           0.142         0.568          0.067          0.049   \n",
       "\n",
       "                EUO US Equity  IWM US Equity  alpha  \n",
       "HFRIFWI Index           0.022          0.131  0.014  \n",
       "MLEIFCTR Index          0.036          0.112  0.001  \n",
       "MLEIFCTX Index          0.036          0.111 -0.000  \n",
       "HDG US Equity           0.035          0.116 -0.011  \n",
       "QAI US Equity          -0.003          0.024 -0.008  "
      ]
     },
     "metadata": {},
     "output_type": "display_data"
    }
   ],
   "source": [
    "ols_meterics = get_ols_metrics(mf, hf, annualization=12)\n",
    "names = list(mf.columns)\n",
    "names.append('alpha')\n",
    "display(ols_meterics[list(names)])"
   ]
  },
  {
   "cell_type": "markdown",
   "id": "327a5740",
   "metadata": {},
   "source": [
    "#### (b) Are the betas realistic position sizes, or do they require huge long-short positions?"
   ]
  },
  {
   "cell_type": "markdown",
   "id": "6d0f1cec",
   "metadata": {},
   "source": [
    "The betas shows large positions in USGGM3M index, sometimes it's beta is more than 10 times the beta of SPY. But that's also because USGGM3M has lower volatality, so if we standardize betas by volatality, we see that the beta are similar and so the position sizes are realistic. Below calculation supports this argument"
   ]
  },
  {
   "cell_type": "code",
   "execution_count": 70,
   "id": "08f5ba73",
   "metadata": {},
   "outputs": [
    {
     "name": "stdout",
     "output_type": "stream",
     "text": [
      "[ 0.00281434 -0.0002661   0.00381874  0.00451249  0.00101261  0.00708819]\n"
     ]
    }
   ],
   "source": [
    "vol = np.array(performanceMetrics(mf)['Vol'])\n",
    "beta = np.array(ols_meterics.loc['HFRIFWI Index'][list(mf.columns)])\n",
    "beta_weights = beta*vol\n",
    "print(beta_weights)"
   ]
  },
  {
   "cell_type": "markdown",
   "id": "d7681118",
   "metadata": {},
   "source": [
    "#### (c) Report the R-squared."
   ]
  },
  {
   "cell_type": "code",
   "execution_count": 73,
   "id": "aa914def",
   "metadata": {},
   "outputs": [
    {
     "data": {
      "text/html": [
       "<style  type=\"text/css\" >\n",
       "</style><table id=\"T_a86e7_\" ><thead>    <tr>        <th class=\"blank level0\" ></th>        <th class=\"col_heading level0 col0\" >r-squared</th>    </tr></thead><tbody>\n",
       "                <tr>\n",
       "                        <th id=\"T_a86e7_level0_row0\" class=\"row_heading level0 row0\" >HFRIFWI Index</th>\n",
       "                        <td id=\"T_a86e7_row0_col0\" class=\"data row0 col0\" >85.57%</td>\n",
       "            </tr>\n",
       "            <tr>\n",
       "                        <th id=\"T_a86e7_level0_row1\" class=\"row_heading level0 row1\" >MLEIFCTR Index</th>\n",
       "                        <td id=\"T_a86e7_row1_col0\" class=\"data row1 col0\" >94.84%</td>\n",
       "            </tr>\n",
       "            <tr>\n",
       "                        <th id=\"T_a86e7_level0_row2\" class=\"row_heading level0 row2\" >MLEIFCTX Index</th>\n",
       "                        <td id=\"T_a86e7_row2_col0\" class=\"data row2 col0\" >94.80%</td>\n",
       "            </tr>\n",
       "            <tr>\n",
       "                        <th id=\"T_a86e7_level0_row3\" class=\"row_heading level0 row3\" >HDG US Equity</th>\n",
       "                        <td id=\"T_a86e7_row3_col0\" class=\"data row3 col0\" >91.02%</td>\n",
       "            </tr>\n",
       "            <tr>\n",
       "                        <th id=\"T_a86e7_level0_row4\" class=\"row_heading level0 row4\" >QAI US Equity</th>\n",
       "                        <td id=\"T_a86e7_row4_col0\" class=\"data row4 col0\" >78.82%</td>\n",
       "            </tr>\n",
       "    </tbody></table>"
      ],
      "text/plain": [
       "<pandas.io.formats.style.Styler at 0x7fcc6d047fd0>"
      ]
     },
     "metadata": {},
     "output_type": "display_data"
    }
   ],
   "source": [
    "display(pd.DataFrame(ols_meterics['r-squared']).style.format('{:,.2%}'))"
   ]
  },
  {
   "cell_type": "markdown",
   "id": "4c0f62f1",
   "metadata": {},
   "source": [
    "#### (d) Report the volatility of $\\epsilon^{merr}$ (the tracking error)."
   ]
  },
  {
   "cell_type": "code",
   "execution_count": 75,
   "id": "3ce04ed8",
   "metadata": {},
   "outputs": [
    {
     "data": {
      "text/html": [
       "<style  type=\"text/css\" >\n",
       "</style><table id=\"T_43da2_\" ><thead>    <tr>        <th class=\"blank level0\" ></th>        <th class=\"col_heading level0 col0\" >0</th>    </tr></thead><tbody>\n",
       "                <tr>\n",
       "                        <th id=\"T_43da2_level0_row0\" class=\"row_heading level0 row0\" >HFRIFWI Index</th>\n",
       "                        <td id=\"T_43da2_row0_col0\" class=\"data row0 col0\" >2.34%</td>\n",
       "            </tr>\n",
       "            <tr>\n",
       "                        <th id=\"T_43da2_level0_row1\" class=\"row_heading level0 row1\" >MLEIFCTR Index</th>\n",
       "                        <td id=\"T_43da2_row1_col0\" class=\"data row1 col0\" >1.22%</td>\n",
       "            </tr>\n",
       "            <tr>\n",
       "                        <th id=\"T_43da2_level0_row2\" class=\"row_heading level0 row2\" >MLEIFCTX Index</th>\n",
       "                        <td id=\"T_43da2_row2_col0\" class=\"data row2 col0\" >1.22%</td>\n",
       "            </tr>\n",
       "            <tr>\n",
       "                        <th id=\"T_43da2_level0_row3\" class=\"row_heading level0 row3\" >HDG US Equity</th>\n",
       "                        <td id=\"T_43da2_row3_col0\" class=\"data row3 col0\" >1.69%</td>\n",
       "            </tr>\n",
       "            <tr>\n",
       "                        <th id=\"T_43da2_level0_row4\" class=\"row_heading level0 row4\" >QAI US Equity</th>\n",
       "                        <td id=\"T_43da2_row4_col0\" class=\"data row4 col0\" >2.09%</td>\n",
       "            </tr>\n",
       "    </tbody></table>"
      ],
      "text/plain": [
       "<pandas.io.formats.style.Styler at 0x7fcc6be082b0>"
      ]
     },
     "metadata": {},
     "output_type": "display_data"
    }
   ],
   "source": [
    "display(pd.DataFrame(ols_meterics.alpha/ols_meterics['Info Ratio']).style.format('{:,.2%}'))"
   ]
  }
 ],
 "metadata": {
  "kernelspec": {
   "display_name": "Python 3 (ipykernel)",
   "language": "python",
   "name": "python3"
  },
  "language_info": {
   "codemirror_mode": {
    "name": "ipython",
    "version": 3
   },
   "file_extension": ".py",
   "mimetype": "text/x-python",
   "name": "python",
   "nbconvert_exporter": "python",
   "pygments_lexer": "ipython3",
   "version": "3.8.8"
  }
 },
 "nbformat": 4,
 "nbformat_minor": 5
}
